{
 "nbformat": 4,
 "nbformat_minor": 0,
 "metadata": {
  "colab": {
   "provenance": []
  },
  "kernelspec": {
   "name": "python3",
   "display_name": "Python 3"
  },
  "language_info": {
   "name": "python"
  },
  "accelerator": "GPU",
  "gpuClass": "standard"
 },
 "cells": [
  {
   "cell_type": "markdown",
   "source": [
    "# Week 1: CUDA operations in PyTorch. Introduction to benchmarking.\n",
    "In this seminar, we'll learn a bit more about the things one needs to keep in mind when using GPU computations, both in general and in PyTorch. We'll also see a couple of examples on benchmarking code in Python; again, there are some caveats with CUDA.\n",
    "\n",
    "First, let's import PyTorch and get some information about the currently used device:"
   ],
   "metadata": {
    "id": "4yYIhuphpTyt"
   }
  },
  {
   "cell_type": "code",
   "execution_count": 1,
   "metadata": {
    "id": "089F8Q-yK9-w",
    "colab": {
     "base_uri": "https://localhost:8080/"
    },
    "outputId": "99da1c27-84f7-4722-98ad-17e8ed532f11"
   },
   "outputs": [
    {
     "output_type": "execute_result",
     "data": {
      "text/plain": [
       "True"
      ]
     },
     "metadata": {},
     "execution_count": 1
    }
   ],
   "source": [
    "import torch\n",
    "\n",
    "torch.cuda.is_available()"
   ]
  },
  {
   "cell_type": "code",
   "source": [
    "torch.cuda.get_device_properties(0)"
   ],
   "metadata": {
    "colab": {
     "base_uri": "https://localhost:8080/"
    },
    "id": "C9iz9uYOn5JY",
    "outputId": "7217bff5-d5c0-4b1a-d4f9-f1c4dadc2249"
   },
   "execution_count": 2,
   "outputs": [
    {
     "output_type": "execute_result",
     "data": {
      "text/plain": [
       "_CudaDeviceProperties(name='Tesla T4', major=7, minor=5, total_memory=15109MB, multi_processor_count=40)"
      ]
     },
     "metadata": {},
     "execution_count": 2
    }
   ]
  },
  {
   "cell_type": "markdown",
   "source": [
    "## Memory allocation\n",
    "As discussed in the lecture, GPU memory is separate from the CPU memory and needs to be explicitly allocated, triggering a host-device synchronization. PyTorch uses a caching memory allocator to repurpose already available but unused memory fragments.\n",
    "\n",
    "See this example: we allocate the memory inside the function scope, so the tensor is deleted as soon as the scope is left:"
   ],
   "metadata": {
    "id": "i3_7snMwx5Yq"
   }
  },
  {
   "cell_type": "code",
   "source": [
    "def allocate_empty_tensor(dim_size):\n",
    "    a = torch.empty(4096, dim_size, dtype=torch.float32, device=\"cuda\")"
   ],
   "metadata": {
    "id": "Maafa5Nehba-"
   },
   "execution_count": 3,
   "outputs": []
  },
  {
   "cell_type": "code",
   "source": [
    "allocate_empty_tensor(2048)"
   ],
   "metadata": {
    "id": "LhI9_OvaoOIi"
   },
   "execution_count": 4,
   "outputs": []
  },
  {
   "cell_type": "markdown",
   "source": [
    "Printing the allocated memory size gives us an expected number of zero bytes:"
   ],
   "metadata": {
    "id": "XAxd3nkJ3UsK"
   }
  },
  {
   "cell_type": "code",
   "source": [
    "torch.cuda.memory_allocated(0)"
   ],
   "metadata": {
    "colab": {
     "base_uri": "https://localhost:8080/"
    },
    "id": "rez0XGH6gGF9",
    "outputId": "9c2876c7-24d5-4c51-f13e-6b9de778bbe5"
   },
   "execution_count": 5,
   "outputs": [
    {
     "output_type": "execute_result",
     "data": {
      "text/plain": [
       "0"
      ]
     },
     "metadata": {},
     "execution_count": 5
    }
   ]
  },
  {
   "cell_type": "markdown",
   "source": [
    "However, the GPU memory is still in use by the process; this is shown by `torch.cuda.memory_reserved` or `nvidia-smi` from the terminal. As a result, working in a shared GPU environment can leave a lot of unused yet allocated memory."
   ],
   "metadata": {
    "id": "qzcQ2ohm3d2v"
   }
  },
  {
   "cell_type": "code",
   "source": [
    "torch.cuda.memory_reserved()"
   ],
   "metadata": {
    "colab": {
     "base_uri": "https://localhost:8080/"
    },
    "id": "H6IOufbXoQwI",
    "outputId": "46dbb2b1-259b-47cf-ab23-ae9e3f7cd616"
   },
   "execution_count": 6,
   "outputs": [
    {
     "output_type": "execute_result",
     "data": {
      "text/plain": [
       "33554432"
      ]
     },
     "metadata": {},
     "execution_count": 6
    }
   ]
  },
  {
   "cell_type": "code",
   "source": [
    "!nvidia-smi"
   ],
   "metadata": {
    "colab": {
     "base_uri": "https://localhost:8080/"
    },
    "id": "1iM6LZBWIDT1",
    "outputId": "30f6531b-791a-4817-f3cd-02427141d270"
   },
   "execution_count": 7,
   "outputs": [
    {
     "output_type": "stream",
     "name": "stdout",
     "text": [
      "Tue Jan 17 22:16:06 2023       \n",
      "+-----------------------------------------------------------------------------+\n",
      "| NVIDIA-SMI 460.32.03    Driver Version: 460.32.03    CUDA Version: 11.2     |\n",
      "|-------------------------------+----------------------+----------------------+\n",
      "| GPU  Name        Persistence-M| Bus-Id        Disp.A | Volatile Uncorr. ECC |\n",
      "| Fan  Temp  Perf  Pwr:Usage/Cap|         Memory-Usage | GPU-Util  Compute M. |\n",
      "|                               |                      |               MIG M. |\n",
      "|===============================+======================+======================|\n",
      "|   0  Tesla T4            Off  | 00000000:00:04.0 Off |                    0 |\n",
      "| N/A   37C    P0    25W /  70W |    134MiB / 15109MiB |      0%      Default |\n",
      "|                               |                      |                  N/A |\n",
      "+-------------------------------+----------------------+----------------------+\n",
      "                                                                               \n",
      "+-----------------------------------------------------------------------------+\n",
      "| Processes:                                                                  |\n",
      "|  GPU   GI   CI        PID   Type   Process name                  GPU Memory |\n",
      "|        ID   ID                                                   Usage      |\n",
      "|=============================================================================|\n",
      "+-----------------------------------------------------------------------------+\n"
     ]
    }
   ]
  },
  {
   "cell_type": "markdown",
   "source": [
    "Let's clear the cache now and see what happens:"
   ],
   "metadata": {
    "id": "JUK6clp83nGu"
   }
  },
  {
   "cell_type": "code",
   "source": [
    "torch.cuda.empty_cache()\n",
    "torch.cuda.memory_reserved()"
   ],
   "metadata": {
    "colab": {
     "base_uri": "https://localhost:8080/"
    },
    "id": "SSPz5VWYopb7",
    "outputId": "7dd3dae6-f2bc-4200-b4f6-7740ec0a3ace"
   },
   "execution_count": 8,
   "outputs": [
    {
     "output_type": "execute_result",
     "data": {
      "text/plain": [
       "0"
      ]
     },
     "metadata": {},
     "execution_count": 8
    }
   ]
  },
  {
   "cell_type": "markdown",
   "source": [
    "Note that this operation triggers a CPU-GPU synchronization, and thus using it in your code can significantly hurt the performance. It's almost always better to carefully manage the lifetime of your GPU tensors and avoid excessive allocations than to empty the cache.\n",
    "\n",
    "Now, let's see how this cache is reused by allocating two tensors in a row: first a larger one, then a smaller one."
   ],
   "metadata": {
    "id": "m3m-rcF64j1l"
   }
  },
  {
   "cell_type": "code",
   "source": [
    "allocate_empty_tensor(2048)\n",
    "torch.cuda.memory_reserved()"
   ],
   "metadata": {
    "colab": {
     "base_uri": "https://localhost:8080/"
    },
    "id": "8YHdjvrn32_F",
    "outputId": "7b23f968-5336-47ab-eb5a-37b043ef13fe"
   },
   "execution_count": 9,
   "outputs": [
    {
     "output_type": "execute_result",
     "data": {
      "text/plain": [
       "33554432"
      ]
     },
     "metadata": {},
     "execution_count": 9
    }
   ]
  },
  {
   "cell_type": "code",
   "source": [
    "allocate_empty_tensor(1024)\n",
    "torch.cuda.memory_reserved()"
   ],
   "metadata": {
    "colab": {
     "base_uri": "https://localhost:8080/"
    },
    "id": "4qKRSbS634vg",
    "outputId": "d1d223d0-e797-4d63-8f9a-63ac6baa8e65"
   },
   "execution_count": 10,
   "outputs": [
    {
     "output_type": "execute_result",
     "data": {
      "text/plain": [
       "33554432"
      ]
     },
     "metadata": {},
     "execution_count": 10
    }
   ]
  },
  {
   "cell_type": "markdown",
   "source": [
    "As expected, we reuse the cache, since the array fits into the allocated chunk.\n",
    "\n",
    "However, if we attempt to do this with a larger tensor (3072 elements in the second dimension instead of 2048), we observe something different:"
   ],
   "metadata": {
    "id": "MpLYUugy4hTW"
   }
  },
  {
   "cell_type": "code",
   "source": [
    "allocate_empty_tensor(3072)\n",
    "torch.cuda.memory_reserved()"
   ],
   "metadata": {
    "colab": {
     "base_uri": "https://localhost:8080/"
    },
    "id": "aOe0In1I3_ix",
    "outputId": "e7b6e319-f32d-427d-b2e5-8176a5e739c5"
   },
   "execution_count": 11,
   "outputs": [
    {
     "output_type": "execute_result",
     "data": {
      "text/plain": [
       "83886080"
      ]
     },
     "metadata": {},
     "execution_count": 11
    }
   ]
  },
  {
   "cell_type": "markdown",
   "source": [
    "What happened? The chunk of memory that was allocated for a 4096x2048 array did not fit a tensor of size 4096x3072: thus, PyTorch needed to allocate an additional segment of a sufficient size while keeping the previous one allocated (in case the user creates a smaller tensor later at some point).\n",
    "\n",
    "In practice, this means that if your code is dealing with tensors of dynamic size (changing batch sizes, sequence lengths or image resolutions), it is recommended to first warm up the cache by allocating tensors for the largest expected input. Otherwise, in the worst case you allocate a quadratic amount of memory with respect to the largest input size instead of a linear one.\n",
    "\n",
    "You can also view more detailed allocation statistics by running `torch.cuda.memory_stats()`"
   ],
   "metadata": {
    "id": "ayR2vJmL4g4a"
   }
  },
  {
   "cell_type": "code",
   "source": [
    "memory_stats = torch.cuda.memory_stats()\n",
    "print(memory_stats[\"active.all.allocated\"])\n",
    "print(memory_stats[\"active.all.current\"])\n",
    "print(memory_stats[\"active.all.peak\"])\n",
    "print(memory_stats[\"reserved_bytes.all.current\"])"
   ],
   "metadata": {
    "colab": {
     "base_uri": "https://localhost:8080/"
    },
    "id": "leOBOx9OmCqP",
    "outputId": "be623b70-f28d-4141-ce7f-ea21e3f90108"
   },
   "execution_count": 12,
   "outputs": [
    {
     "output_type": "stream",
     "name": "stdout",
     "text": [
      "4\n",
      "0\n",
      "1\n",
      "83886080\n"
     ]
    }
   ]
  },
  {
   "cell_type": "code",
   "source": [
    "torch.cuda.empty_cache()\n",
    "print(torch.cuda.memory_stats()[\"reserved_bytes.all.current\"])"
   ],
   "metadata": {
    "colab": {
     "base_uri": "https://localhost:8080/"
    },
    "collapsed": true,
    "id": "BtsyuLdFI6N9",
    "outputId": "38580215-f60a-46bf-af80-c5c6a1c9b4ff"
   },
   "execution_count": 13,
   "outputs": [
    {
     "output_type": "stream",
     "name": "stdout",
     "text": [
      "0\n"
     ]
    }
   ]
  },
  {
   "cell_type": "markdown",
   "source": [
    "## Benchmarking intro\n",
    "The simplest way to check the performance impact of any change is to compare the runtime of code with and without it. Here, we will consider a simple way of doing this in Python.\n",
    "\n",
    "First, let's define two functions that compute a batched version of a dot product for two matrices:"
   ],
   "metadata": {
    "id": "PexpzQZ_xPss"
   }
  },
  {
   "cell_type": "code",
   "source": [
    "def batched_dot_mul_sum(a, b):\n",
    "    \"\"\"Computes batched dot by multiplying and summing\"\"\"\n",
    "    return a.mul(b).sum(-1)\n",
    "\n",
    "\n",
    "def batched_dot_bmm(a, b):\n",
    "    \"\"\"Computes batched dot by reducing to bmm\"\"\"\n",
    "    a = a.reshape(-1, 1, a.shape[-1])\n",
    "    b = b.reshape(-1, b.shape[-1], 1)\n",
    "    return torch.bmm(a, b).flatten(-3)\n",
    "\n",
    "\n",
    "# Input for benchmarking\n",
    "x = torch.randn(10000, 64)\n",
    "\n",
    "# Ensure that both functions compute the same output\n",
    "assert batched_dot_mul_sum(x, x).allclose(batched_dot_bmm(x, x))"
   ],
   "metadata": {
    "id": "YH5Wbu_GLLN0"
   },
   "execution_count": 14,
   "outputs": []
  },
  {
   "cell_type": "markdown",
   "source": [
    "To conduct microbenchmarks by running the code hundreds of times and measuring the average execution time, you can use the built-in [timeit](https://docs.python.org/3/library/timeit.html) module. Simply create a Timer object with relevant arguments and call `.timeit()`:"
   ],
   "metadata": {
    "id": "7iJ6zelnyE37"
   }
  },
  {
   "cell_type": "code",
   "source": [
    "import timeit\n",
    "\n",
    "t0 = timeit.Timer(\n",
    "    stmt=\"batched_dot_mul_sum(x, x)\",\n",
    "    setup=\"from __main__ import batched_dot_mul_sum\",\n",
    "    globals={\"x\": x},\n",
    ")\n",
    "\n",
    "t1 = timeit.Timer(\n",
    "    stmt=\"batched_dot_bmm(x, x)\",\n",
    "    setup=\"from __main__ import batched_dot_bmm\",\n",
    "    globals={\"x\": x},\n",
    ")\n",
    "\n",
    "print(f\"mul_sum(x, x):  {t0.timeit(100) / 100 * 1e6:>5.1f} us\")\n",
    "print(f\"bmm(x, x):      {t1.timeit(100) / 100 * 1e6:>5.1f} us\")"
   ],
   "metadata": {
    "colab": {
     "base_uri": "https://localhost:8080/"
    },
    "id": "rKAVpQ1hLMxI",
    "outputId": "1bd30fad-7cf6-4004-e587-2a3aebcdc8a5"
   },
   "execution_count": 15,
   "outputs": [
    {
     "output_type": "stream",
     "name": "stdout",
     "text": [
      "mul_sum(x, x):  605.6 us\n",
      "bmm(x, x):      888.7 us\n"
     ]
    }
   ]
  },
  {
   "cell_type": "markdown",
   "source": [
    "In IPython, there exist line and cell timeit [magics](https://ipython.readthedocs.io/en/stable/interactive/magics.html#cell-magics). They can be more convenient for smaller cases but allow you a bit less control over the setup."
   ],
   "metadata": {
    "id": "OFm8rggSK3FW"
   }
  },
  {
   "cell_type": "code",
   "source": [
    "%timeit batched_dot_mul_sum(x, x)"
   ],
   "metadata": {
    "colab": {
     "base_uri": "https://localhost:8080/"
    },
    "id": "NM0hjbs3JxLF",
    "outputId": "9392f18e-173a-495d-9cce-2152c60ba34f"
   },
   "execution_count": 16,
   "outputs": [
    {
     "output_type": "stream",
     "name": "stdout",
     "text": [
      "526 µs ± 24.8 µs per loop (mean ± std. dev. of 7 runs, 1000 loops each)\n"
     ]
    }
   ]
  },
  {
   "cell_type": "code",
   "source": [
    "%timeit batched_dot_bmm(x, x)"
   ],
   "metadata": {
    "colab": {
     "base_uri": "https://localhost:8080/"
    },
    "id": "a28ZIFy_KZl0",
    "outputId": "ddf3ebb1-bd22-4266-c312-1e20d8b4dfd7"
   },
   "execution_count": 17,
   "outputs": [
    {
     "output_type": "stream",
     "name": "stdout",
     "text": [
      "892 µs ± 37.3 µs per loop (mean ± std. dev. of 7 runs, 1000 loops each)\n"
     ]
    }
   ]
  },
  {
   "cell_type": "markdown",
   "source": [
    "[torch.utils.benchmark](https://pytorch.org/docs/stable/benchmark_utils.html) copies the API of timeit while helping the user avoid common mistakes. \n",
    "\n",
    "First, let's run it on the same code and data:"
   ],
   "metadata": {
    "id": "F1WqSrVJyEAd"
   }
  },
  {
   "cell_type": "code",
   "source": [
    "import torch.utils.benchmark as benchmark\n",
    "\n",
    "t0 = benchmark.Timer(\n",
    "    stmt=\"batched_dot_mul_sum(x, x)\",\n",
    "    setup=\"from __main__ import batched_dot_mul_sum\",\n",
    "    globals={\"x\": x},\n",
    ")\n",
    "\n",
    "t1 = benchmark.Timer(\n",
    "    stmt=\"batched_dot_bmm(x, x)\",\n",
    "    setup=\"from __main__ import batched_dot_bmm\",\n",
    "    globals={\"x\": x},\n",
    ")\n",
    "\n",
    "print(t0.timeit(100))\n",
    "print(t1.timeit(100))"
   ],
   "metadata": {
    "colab": {
     "base_uri": "https://localhost:8080/"
    },
    "id": "GF1XAx1ULSch",
    "outputId": "e1ef98ff-7b0d-4a19-8ccd-b2059c73045d"
   },
   "execution_count": 18,
   "outputs": [
    {
     "output_type": "stream",
     "name": "stdout",
     "text": [
      "<torch.utils.benchmark.utils.common.Measurement object at 0x7f5c95938f70>\n",
      "batched_dot_mul_sum(x, x)\n",
      "setup: from __main__ import batched_dot_mul_sum\n",
      "  554.54 us\n",
      "  1 measurement, 100 runs , 1 thread\n",
      "<torch.utils.benchmark.utils.common.Measurement object at 0x7f5d0eb465b0>\n",
      "batched_dot_bmm(x, x)\n",
      "setup: from __main__ import batched_dot_bmm\n",
      "  843.06 us\n",
      "  1 measurement, 100 runs , 1 thread\n"
     ]
    }
   ]
  },
  {
   "cell_type": "code",
   "source": [
    "# in addition, we can set the number of threads for CPU computations\n",
    "num_threads = torch.get_num_threads()\n",
    "print(f\"Benchmarking on {num_threads} threads\")\n",
    "\n",
    "t0 = benchmark.Timer(\n",
    "    stmt=\"batched_dot_mul_sum(x, x)\",\n",
    "    setup=\"from __main__ import batched_dot_mul_sum\",\n",
    "    globals={\"x\": x},\n",
    "    num_threads=num_threads,\n",
    "    label=\"Multithreaded batch dot\",\n",
    "    sub_label=\"Implemented using mul and sum\",\n",
    ")\n",
    "\n",
    "t1 = benchmark.Timer(\n",
    "    stmt=\"batched_dot_bmm(x, x)\",\n",
    "    setup=\"from __main__ import batched_dot_bmm\",\n",
    "    globals={\"x\": x},\n",
    "    num_threads=num_threads,\n",
    "    label=\"Multithreaded batch dot\",\n",
    "    sub_label=\"Implemented using bmm\",\n",
    ")\n",
    "\n",
    "print(t0.timeit(100))\n",
    "print(t1.timeit(100))"
   ],
   "metadata": {
    "colab": {
     "base_uri": "https://localhost:8080/"
    },
    "id": "jHfn-xHLLTxm",
    "outputId": "939e1dcc-7b99-4e66-f5a0-883bb7306d55"
   },
   "execution_count": 19,
   "outputs": [
    {
     "output_type": "stream",
     "name": "stdout",
     "text": [
      "Benchmarking on 1 threads\n",
      "<torch.utils.benchmark.utils.common.Measurement object at 0x7f5c95962850>\n",
      "Multithreaded batch dot: Implemented using mul and sum\n",
      "setup: from __main__ import batched_dot_mul_sum\n",
      "  543.99 us\n",
      "  1 measurement, 100 runs , 1 thread\n",
      "<torch.utils.benchmark.utils.common.Measurement object at 0x7f5c8516cca0>\n",
      "Multithreaded batch dot: Implemented using bmm\n",
      "setup: from __main__ import batched_dot_bmm\n",
      "  859.42 us\n",
      "  1 measurement, 100 runs , 1 thread\n"
     ]
    }
   ]
  },
  {
   "cell_type": "code",
   "source": [
    "# we can change it globally for PyTorch and measure the impact\n",
    "prev_num_threads = num_threads\n",
    "torch.set_num_threads(2)\n",
    "\n",
    "num_threads = torch.get_num_threads()\n",
    "print(f\"Benchmarking on {num_threads} threads\")\n",
    "\n",
    "t0 = benchmark.Timer(\n",
    "    stmt=\"batched_dot_mul_sum(x, x)\",\n",
    "    setup=\"from __main__ import batched_dot_mul_sum\",\n",
    "    globals={\"x\": x},\n",
    "    num_threads=num_threads,\n",
    "    label=\"Multithreaded batch dot\",\n",
    "    sub_label=\"Implemented using mul and sum\",\n",
    ")\n",
    "\n",
    "t1 = benchmark.Timer(\n",
    "    stmt=\"batched_dot_bmm(x, x)\",\n",
    "    setup=\"from __main__ import batched_dot_bmm\",\n",
    "    globals={\"x\": x},\n",
    "    num_threads=num_threads,\n",
    "    label=\"Multithreaded batch dot\",\n",
    "    sub_label=\"Implemented using bmm\",\n",
    ")\n",
    "\n",
    "print(t0.timeit(100))\n",
    "print(t1.timeit(100))\n",
    "# in this case, we don't get any speedup, likely due to the overhead\n",
    "\n",
    "torch.set_num_threads(prev_num_threads)"
   ],
   "metadata": {
    "colab": {
     "base_uri": "https://localhost:8080/"
    },
    "id": "xuHOmnUplY5T",
    "outputId": "a7636cc7-314e-4acd-f4e8-d36133c9cbaa"
   },
   "execution_count": 20,
   "outputs": [
    {
     "output_type": "stream",
     "name": "stdout",
     "text": [
      "Benchmarking on 2 threads\n",
      "<torch.utils.benchmark.utils.common.Measurement object at 0x7f5c95962cd0>\n",
      "Multithreaded batch dot: Implemented using mul and sum\n",
      "setup: from __main__ import batched_dot_mul_sum\n",
      "  898.22 us\n",
      "  1 measurement, 100 runs , 2 threads\n",
      "<torch.utils.benchmark.utils.common.Measurement object at 0x7f5c85429760>\n",
      "Multithreaded batch dot: Implemented using bmm\n",
      "setup: from __main__ import batched_dot_bmm\n",
      "  1.36 ms\n",
      "  1 measurement, 100 runs , 2 threads\n"
     ]
    }
   ]
  },
  {
   "cell_type": "code",
   "source": [
    "# by the way, what CPU do we have?\n",
    "!lscpu"
   ],
   "metadata": {
    "colab": {
     "base_uri": "https://localhost:8080/"
    },
    "id": "0sbnCapQNirw",
    "outputId": "fbfa8e6e-46c9-462e-8453-53608e2b77dd"
   },
   "execution_count": 21,
   "outputs": [
    {
     "output_type": "stream",
     "name": "stdout",
     "text": [
      "Architecture:        x86_64\n",
      "CPU op-mode(s):      32-bit, 64-bit\n",
      "Byte Order:          Little Endian\n",
      "CPU(s):              2\n",
      "On-line CPU(s) list: 0,1\n",
      "Thread(s) per core:  2\n",
      "Core(s) per socket:  1\n",
      "Socket(s):           1\n",
      "NUMA node(s):        1\n",
      "Vendor ID:           GenuineIntel\n",
      "CPU family:          6\n",
      "Model:               79\n",
      "Model name:          Intel(R) Xeon(R) CPU @ 2.20GHz\n",
      "Stepping:            0\n",
      "CPU MHz:             2199.998\n",
      "BogoMIPS:            4399.99\n",
      "Hypervisor vendor:   KVM\n",
      "Virtualization type: full\n",
      "L1d cache:           32K\n",
      "L1i cache:           32K\n",
      "L2 cache:            256K\n",
      "L3 cache:            56320K\n",
      "NUMA node0 CPU(s):   0,1\n",
      "Flags:               fpu vme de pse tsc msr pae mce cx8 apic sep mtrr pge mca cmov pat pse36 clflush mmx fxsr sse sse2 ss ht syscall nx pdpe1gb rdtscp lm constant_tsc rep_good nopl xtopology nonstop_tsc cpuid tsc_known_freq pni pclmulqdq ssse3 fma cx16 pcid sse4_1 sse4_2 x2apic movbe popcnt aes xsave avx f16c rdrand hypervisor lahf_lm abm 3dnowprefetch invpcid_single ssbd ibrs ibpb stibp fsgsbase tsc_adjust bmi1 hle avx2 smep bmi2 erms invpcid rtm rdseed adx smap xsaveopt arat md_clear arch_capabilities\n"
     ]
    }
   ]
  },
  {
   "cell_type": "markdown",
   "source": [
    "## Benchmarking GPU code\n",
    "As we discussed in the lecture, CUDA kernel execution and PyTorch GPU operations are asynchronous. \n",
    "This means that it is possible to launch several kernels in a row before receiving results from the first one. As a consequence, naive benchmarking without synchronization is likely to give you unrealistic results.\n",
    "\n",
    "Let's the same example, but with slightly larger matrices on the GPU:"
   ],
   "metadata": {
    "id": "KHJDeL81zJt4"
   }
  },
  {
   "cell_type": "code",
   "source": [
    "import timeit\n",
    "\n",
    "x = torch.randn(10000, 1024, device=\"cuda\")\n",
    "\n",
    "t0 = timeit.Timer(\n",
    "    stmt=\"batched_dot_mul_sum(x, x)\",\n",
    "    setup=\"from __main__ import batched_dot_mul_sum\",\n",
    "    globals={\"x\": x},\n",
    ")\n",
    "\n",
    "t1 = timeit.Timer(\n",
    "    stmt=\"batched_dot_bmm(x, x)\",\n",
    "    setup=\"from __main__ import batched_dot_bmm\",\n",
    "    globals={\"x\": x},\n",
    ")\n",
    "\n",
    "# Ran each twice to show difference before/after warmup\n",
    "print(f\"mul_sum(x, x):  {t0.timeit(100) / 100 * 1e6:>5.1f} us\")\n",
    "print(f\"mul_sum(x, x):  {t0.timeit(100) / 100 * 1e6:>5.1f} us\")\n",
    "print(f\"bmm(x, x):      {t1.timeit(100) / 100 * 1e6:>5.1f} us\")\n",
    "print(f\"bmm(x, x):      {t1.timeit(100) / 100 * 1e6:>5.1f} us\")"
   ],
   "metadata": {
    "colab": {
     "base_uri": "https://localhost:8080/"
    },
    "id": "UWPVFvQxLWk9",
    "outputId": "c6e682e0-5906-4423-df44-bb745528d78d"
   },
   "execution_count": 22,
   "outputs": [
    {
     "output_type": "stream",
     "name": "stdout",
     "text": [
      "mul_sum(x, x):   91.7 us\n",
      "mul_sum(x, x):   23.3 us\n",
      "bmm(x, x):      32066.8 us\n",
      "bmm(x, x):       29.2 us\n"
     ]
    }
   ]
  },
  {
   "cell_type": "markdown",
   "source": [
    "First, we see that the difference between the first and the second runs of timeit is quite noticeable, which happens because of initializing the CUDA context and loading [cuBLAS](https://docs.nvidia.com/cuda/cublas/index.html) — a CUDA library for accelerated linear algebra.\n",
    "\n",
    "Second, the runtimes of two methods seem too small. \n",
    "\n",
    "Let's run the same test with `torch.utils.benchmark` to see a different set of results."
   ],
   "metadata": {
    "id": "xt5nFXZJzn-q"
   }
  },
  {
   "cell_type": "code",
   "source": [
    "t0 = benchmark.Timer(\n",
    "    stmt=\"batched_dot_mul_sum(x, x)\",\n",
    "    setup=\"from __main__ import batched_dot_mul_sum\",\n",
    "    globals={\"x\": x},\n",
    ")\n",
    "\n",
    "t1 = benchmark.Timer(\n",
    "    stmt=\"batched_dot_bmm(x, x)\",\n",
    "    setup=\"from __main__ import batched_dot_bmm\",\n",
    "    globals={\"x\": x},\n",
    ")\n",
    "\n",
    "# Run only once since benchmark module does warmup for us\n",
    "print(t0.timeit(100))\n",
    "print(t1.timeit(100))"
   ],
   "metadata": {
    "colab": {
     "base_uri": "https://localhost:8080/"
    },
    "id": "G2S71HcljicI",
    "outputId": "04707121-2489-4391-8b6b-5d007eef99c0"
   },
   "execution_count": 23,
   "outputs": [
    {
     "output_type": "stream",
     "name": "stdout",
     "text": [
      "<torch.utils.benchmark.utils.common.Measurement object at 0x7f5c8514ef40>\n",
      "batched_dot_mul_sum(x, x)\n",
      "setup: from __main__ import batched_dot_mul_sum\n",
      "  501.08 us\n",
      "  1 measurement, 100 runs , 1 thread\n",
      "<torch.utils.benchmark.utils.common.Measurement object at 0x7f5c8514e280>\n",
      "batched_dot_bmm(x, x)\n",
      "setup: from __main__ import batched_dot_bmm\n",
      "  225.33 us\n",
      "  1 measurement, 100 runs , 1 thread\n"
     ]
    }
   ]
  },
  {
   "cell_type": "markdown",
   "source": [
    "Now we have a more realistic set of measurements, which is caused by explicitly triggering the CPU-GPU synchronization and awaiting the results after launching the multiplication. The runtime is comparable to what we had in a previous set of benchmarks, but pay attention that now the matrices being multiplied are 16 times bigger.\n",
    "\n",
    "Let's implement microbenchmarking by ourselves using nothing but [`time.perf_counter()`](https://docs.python.org/3/library/time.html#time.perf_counter) and CUDA methods given by PyTorch. First, we'll run `batched_dot_mul_sum` on the GPU with and without synchronization and see how this affects the results:"
   ],
   "metadata": {
    "id": "k0OG91pQztfY"
   }
  },
  {
   "cell_type": "code",
   "source": [
    "from time import perf_counter\n",
    "\n",
    "import numpy as np\n",
    "\n",
    "execution_times = []\n",
    "\n",
    "for _ in range(100):\n",
    "    start_time = perf_counter()\n",
    "    batched_dot_mul_sum(x, x)\n",
    "    execution_times.append(perf_counter() - start_time)\n",
    "\n",
    "np.mean(execution_times)"
   ],
   "metadata": {
    "colab": {
     "base_uri": "https://localhost:8080/"
    },
    "id": "gFyWDoTnrkdw",
    "outputId": "e511d758-e4e5-40cd-c2c9-5a40cc8a09d9"
   },
   "execution_count": 24,
   "outputs": [
    {
     "output_type": "execute_result",
     "data": {
      "text/plain": [
       "5.138728001838899e-05"
      ]
     },
     "metadata": {},
     "execution_count": 24
    }
   ]
  },
  {
   "cell_type": "markdown",
   "source": [
    "Compare this with the result that does not compute anything:"
   ],
   "metadata": {
    "id": "daRiA7czQSF1"
   }
  },
  {
   "cell_type": "code",
   "source": [
    "execution_times = []\n",
    "\n",
    "for _ in range(100):\n",
    "    start = perf_counter()\n",
    "    execution_times.append(perf_counter() - start)\n",
    "\n",
    "np.mean(execution_times)"
   ],
   "metadata": {
    "colab": {
     "base_uri": "https://localhost:8080/"
    },
    "id": "bhyGF5-Ftta4",
    "outputId": "7c2a7293-94f6-413d-c823-c857d496a62f"
   },
   "execution_count": 25,
   "outputs": [
    {
     "output_type": "execute_result",
     "data": {
      "text/plain": [
       "1.1086999620602001e-07"
      ]
     },
     "metadata": {},
     "execution_count": 25
    }
   ]
  },
  {
   "cell_type": "markdown",
   "source": [
    "Finally, let's explicitly call `torch.cuda.synchronize` at the end of each iteration to see the difference."
   ],
   "metadata": {
    "id": "KJ8KEHVKQ1Y_"
   }
  },
  {
   "cell_type": "code",
   "source": [
    "execution_times = []\n",
    "\n",
    "for _ in range(100):\n",
    "    start_time = perf_counter()\n",
    "    batched_dot_mul_sum(x, x)\n",
    "    torch.cuda.synchronize()\n",
    "    execution_times.append(perf_counter() - start_time)\n",
    "\n",
    "np.mean(execution_times)"
   ],
   "metadata": {
    "colab": {
     "base_uri": "https://localhost:8080/"
    },
    "id": "kjmFVZdPQjrj",
    "outputId": "d19e3ed3-8624-4739-fa79-1b2e54adcbb6"
   },
   "execution_count": 26,
   "outputs": [
    {
     "output_type": "execute_result",
     "data": {
      "text/plain": [
       "0.0007799099600060799"
      ]
     },
     "metadata": {},
     "execution_count": 26
    }
   ]
  },
  {
   "cell_type": "markdown",
   "source": [
    "The same thing applies to the actual models. Let's take `Linear` as the simplest example:"
   ],
   "metadata": {
    "id": "r4AKp3IrW_ei"
   }
  },
  {
   "cell_type": "code",
   "source": [
    "x = torch.randn(10000, 512, device=\"cuda\")\n",
    "linear = torch.nn.Linear(512, 1024, bias=False, device=\"cuda\")\n",
    "N_ITERS = 200\n",
    "\n",
    "execution_times = []\n",
    "\n",
    "for _ in range(N_ITERS):\n",
    "    start = perf_counter()\n",
    "    result = linear(x)\n",
    "    execution_times.append(perf_counter() - start)\n",
    "\n",
    "np.mean(execution_times)"
   ],
   "metadata": {
    "colab": {
     "base_uri": "https://localhost:8080/"
    },
    "id": "E21i4UMYujuQ",
    "outputId": "e0d779e0-4c2a-49e6-e030-50d5c4514c4a"
   },
   "execution_count": 27,
   "outputs": [
    {
     "output_type": "execute_result",
     "data": {
      "text/plain": [
       "8.6860699996123e-05"
      ]
     },
     "metadata": {},
     "execution_count": 27
    }
   ]
  },
  {
   "cell_type": "code",
   "source": [
    "execution_times = []\n",
    "\n",
    "for _ in range(N_ITERS):\n",
    "    start = perf_counter()\n",
    "    result = linear(x)\n",
    "    torch.cuda.synchronize()\n",
    "    execution_times.append(perf_counter() - start)\n",
    "\n",
    "np.mean(execution_times)"
   ],
   "metadata": {
    "colab": {
     "base_uri": "https://localhost:8080/"
    },
    "id": "T6oR06jMvXA3",
    "outputId": "c30ad5de-d052-413c-9b9d-0e3ad5d3e047"
   },
   "execution_count": 28,
   "outputs": [
    {
     "output_type": "execute_result",
     "data": {
      "text/plain": [
       "0.004536991950005813"
      ]
     },
     "metadata": {},
     "execution_count": 28
    }
   ]
  },
  {
   "cell_type": "code",
   "source": [
    "execution_times = []\n",
    "\n",
    "start = perf_counter()\n",
    "for _ in range(N_ITERS):\n",
    "    result = linear(x)\n",
    "torch.cuda.synchronize()\n",
    "\n",
    "(perf_counter() - start) / N_ITERS"
   ],
   "metadata": {
    "colab": {
     "base_uri": "https://localhost:8080/"
    },
    "id": "bNJ0S1ykwPtZ",
    "outputId": "75764a1a-dfc9-44f9-b57d-d5d7f8bf7c28"
   },
   "execution_count": 29,
   "outputs": [
    {
     "output_type": "execute_result",
     "data": {
      "text/plain": [
       "0.002294177774999753"
      ]
     },
     "metadata": {},
     "execution_count": 29
    }
   ]
  },
  {
   "cell_type": "markdown",
   "source": [
    "Of course, `torch.utils.benchmark` also works:"
   ],
   "metadata": {
    "id": "7C3AJER9XU0t"
   }
  },
  {
   "cell_type": "code",
   "source": [
    "t0 = benchmark.Timer(stmt=\"linear(x)\", globals={\"x\": x, \"linear\": linear})\n",
    "print(t0.timeit(100))"
   ],
   "metadata": {
    "colab": {
     "base_uri": "https://localhost:8080/"
    },
    "id": "ISGCgjslvqXz",
    "outputId": "df3426ca-4ee9-4bf9-87ed-c374bc642584"
   },
   "execution_count": 30,
   "outputs": [
    {
     "output_type": "stream",
     "name": "stdout",
     "text": [
      "<torch.utils.benchmark.utils.common.Measurement object at 0x7f5c95938b80>\n",
      "linear(x)\n",
      "  2.24 ms\n",
      "  1 measurement, 100 runs , 1 thread\n"
     ]
    }
   ]
  },
  {
   "cell_type": "markdown",
   "source": [
    "## CUDA Streams\n",
    "To execute several operations concurrently, you may use CUDA streams in PyTorch. Below, you can see an example of their usage.\n",
    "\n",
    "However, as you will see in the matrix multiplication example, the usefulness of streams is quite limited: the concurrent kernels need to underutilize the GPU and yet take long enough to compute. It might be a good idea if you are trying to compute some expression and fetch data for the next computation simultaneously though."
   ],
   "metadata": {
    "id": "j8HSUDAISim3"
   }
  },
  {
   "cell_type": "code",
   "source": [
    "cuda = torch.device(\"cuda\")\n",
    "s = torch.cuda.Stream()  # Create a new stream.\n",
    "A = torch.empty((100, 100), device=cuda).normal_(0.0, 1.0)\n",
    "with torch.cuda.stream(s):\n",
    "    # sum() may start execution before normal_() finishes!\n",
    "    B = torch.sum(A)"
   ],
   "metadata": {
    "id": "VAwCkCrgmwLw"
   },
   "execution_count": 31,
   "outputs": []
  },
  {
   "cell_type": "code",
   "source": [
    "s1 = torch.cuda.Stream()\n",
    "s2 = torch.cuda.Stream()\n",
    "# Initialize cuda tensors here. E.g.:\n",
    "A = torch.rand(1000, 1000, device=\"cuda\")\n",
    "B = torch.rand(1000, 1000, device=\"cuda\")\n",
    "# Wait for the above tensors to initialize.\n",
    "torch.cuda.synchronize()\n",
    "\n",
    "execution_times = []\n",
    "\n",
    "for _ in range(100):\n",
    "    start = perf_counter()\n",
    "    with torch.cuda.stream(s1):\n",
    "        C = torch.mm(A, A)\n",
    "    with torch.cuda.stream(s2):\n",
    "        D = torch.mm(B, B)\n",
    "    # Wait for C and D to be computed.\n",
    "    torch.cuda.synchronize()\n",
    "    execution_times.append(perf_counter() - start)\n",
    "\n",
    "np.mean(execution_times)"
   ],
   "metadata": {
    "colab": {
     "base_uri": "https://localhost:8080/"
    },
    "id": "fJOJ1bi4nImI",
    "outputId": "ba27615b-753e-4f43-fe35-96c7f6c811a6"
   },
   "execution_count": 32,
   "outputs": [
    {
     "output_type": "execute_result",
     "data": {
      "text/plain": [
       "0.001015964859984706"
      ]
     },
     "metadata": {},
     "execution_count": 32
    }
   ]
  },
  {
   "cell_type": "code",
   "source": [
    "# next, let's compute C and D sequentially\n",
    "\n",
    "execution_times = []\n",
    "\n",
    "for _ in range(100):\n",
    "    start = perf_counter()\n",
    "    C = torch.mm(A, A)\n",
    "    D = torch.mm(B, B)\n",
    "    # Wait for C and D to be computed.\n",
    "    torch.cuda.synchronize()\n",
    "    execution_times.append(perf_counter() - start)\n",
    "\n",
    "np.mean(execution_times)\n",
    "# the speed is even higher in this case"
   ],
   "metadata": {
    "colab": {
     "base_uri": "https://localhost:8080/"
    },
    "id": "RRw1SQ9hmNiW",
    "outputId": "19702427-ecf6-43fa-fb61-fff3ee7b3492"
   },
   "execution_count": 33,
   "outputs": [
    {
     "output_type": "execute_result",
     "data": {
      "text/plain": [
       "0.0009575643899643183"
      ]
     },
     "metadata": {},
     "execution_count": 33
    }
   ]
  },
  {
   "cell_type": "markdown",
   "source": [
    "## Debugging asynchronous code\n",
    "Finding sources of errors in GPU-reliant code in PyTorch can also be difficult. Let's see this on a standard example of an off-by-one error and incorrect index for the embedding layer:"
   ],
   "metadata": {
    "id": "TC5UISMiSAfs"
   }
  },
  {
   "cell_type": "code",
   "source": [
    "%%writefile incorrect_index.py\n",
    "import torch\n",
    "import torch.nn as nn\n",
    "\n",
    "embedding = nn.Embedding(1024,32).to('cuda')\n",
    "# 1024 > 1023 (largest index in the created embedding layer)\n",
    "input = torch.full((1,1),1024,dtype=torch.long, device='cuda')\n",
    "\n",
    "# out-of-bounds access\n",
    "embedding_for_index = embedding(input)\n",
    "\n",
    "result = torch.sigmoid(embedding_for_index)\n",
    "loss = result.sum()\n",
    "print(loss.item())\n",
    "print(loss)"
   ],
   "metadata": {
    "colab": {
     "base_uri": "https://localhost:8080/"
    },
    "id": "75YMFmOdzhAw",
    "outputId": "ee440d16-dc1f-447c-a486-187bc15be3b0"
   },
   "execution_count": 34,
   "outputs": [
    {
     "output_type": "stream",
     "name": "stdout",
     "text": [
      "Overwriting incorrect_index.py\n"
     ]
    }
   ]
  },
  {
   "cell_type": "markdown",
   "source": [
    "If we attempt to run the code as is, we'll see an error after the point in which we trigger the CPU-GPU synchronization (`loss.item`). This gives us no clues about what exactly caused an error:"
   ],
   "metadata": {
    "id": "dxMcIkDmYBFn"
   }
  },
  {
   "cell_type": "code",
   "source": [
    "!python incorrect_index.py"
   ],
   "metadata": {
    "colab": {
     "base_uri": "https://localhost:8080/"
    },
    "id": "whEGTI1-VVQ6",
    "outputId": "936932df-5fee-47eb-fb72-d19237722690"
   },
   "execution_count": 35,
   "outputs": [
    {
     "output_type": "stream",
     "name": "stdout",
     "text": [
      "../aten/src/ATen/native/cuda/Indexing.cu:1088: indexSelectSmallIndex: block: [0,0,0], thread: [0,0,0] Assertion `srcIndex < srcSelectDimSize` failed.\n",
      "../aten/src/ATen/native/cuda/Indexing.cu:1088: indexSelectSmallIndex: block: [0,0,0], thread: [1,0,0] Assertion `srcIndex < srcSelectDimSize` failed.\n",
      "../aten/src/ATen/native/cuda/Indexing.cu:1088: indexSelectSmallIndex: block: [0,0,0], thread: [2,0,0] Assertion `srcIndex < srcSelectDimSize` failed.\n",
      "../aten/src/ATen/native/cuda/Indexing.cu:1088: indexSelectSmallIndex: block: [0,0,0], thread: [3,0,0] Assertion `srcIndex < srcSelectDimSize` failed.\n",
      "../aten/src/ATen/native/cuda/Indexing.cu:1088: indexSelectSmallIndex: block: [0,0,0], thread: [4,0,0] Assertion `srcIndex < srcSelectDimSize` failed.\n",
      "../aten/src/ATen/native/cuda/Indexing.cu:1088: indexSelectSmallIndex: block: [0,0,0], thread: [5,0,0] Assertion `srcIndex < srcSelectDimSize` failed.\n",
      "../aten/src/ATen/native/cuda/Indexing.cu:1088: indexSelectSmallIndex: block: [0,0,0], thread: [6,0,0] Assertion `srcIndex < srcSelectDimSize` failed.\n",
      "../aten/src/ATen/native/cuda/Indexing.cu:1088: indexSelectSmallIndex: block: [0,0,0], thread: [7,0,0] Assertion `srcIndex < srcSelectDimSize` failed.\n",
      "../aten/src/ATen/native/cuda/Indexing.cu:1088: indexSelectSmallIndex: block: [0,0,0], thread: [8,0,0] Assertion `srcIndex < srcSelectDimSize` failed.\n",
      "../aten/src/ATen/native/cuda/Indexing.cu:1088: indexSelectSmallIndex: block: [0,0,0], thread: [9,0,0] Assertion `srcIndex < srcSelectDimSize` failed.\n",
      "../aten/src/ATen/native/cuda/Indexing.cu:1088: indexSelectSmallIndex: block: [0,0,0], thread: [10,0,0] Assertion `srcIndex < srcSelectDimSize` failed.\n",
      "../aten/src/ATen/native/cuda/Indexing.cu:1088: indexSelectSmallIndex: block: [0,0,0], thread: [11,0,0] Assertion `srcIndex < srcSelectDimSize` failed.\n",
      "../aten/src/ATen/native/cuda/Indexing.cu:1088: indexSelectSmallIndex: block: [0,0,0], thread: [12,0,0] Assertion `srcIndex < srcSelectDimSize` failed.\n",
      "../aten/src/ATen/native/cuda/Indexing.cu:1088: indexSelectSmallIndex: block: [0,0,0], thread: [13,0,0] Assertion `srcIndex < srcSelectDimSize` failed.\n",
      "../aten/src/ATen/native/cuda/Indexing.cu:1088: indexSelectSmallIndex: block: [0,0,0], thread: [14,0,0] Assertion `srcIndex < srcSelectDimSize` failed.\n",
      "../aten/src/ATen/native/cuda/Indexing.cu:1088: indexSelectSmallIndex: block: [0,0,0], thread: [15,0,0] Assertion `srcIndex < srcSelectDimSize` failed.\n",
      "../aten/src/ATen/native/cuda/Indexing.cu:1088: indexSelectSmallIndex: block: [0,0,0], thread: [16,0,0] Assertion `srcIndex < srcSelectDimSize` failed.\n",
      "../aten/src/ATen/native/cuda/Indexing.cu:1088: indexSelectSmallIndex: block: [0,0,0], thread: [17,0,0] Assertion `srcIndex < srcSelectDimSize` failed.\n",
      "../aten/src/ATen/native/cuda/Indexing.cu:1088: indexSelectSmallIndex: block: [0,0,0], thread: [18,0,0] Assertion `srcIndex < srcSelectDimSize` failed.\n",
      "../aten/src/ATen/native/cuda/Indexing.cu:1088: indexSelectSmallIndex: block: [0,0,0], thread: [19,0,0] Assertion `srcIndex < srcSelectDimSize` failed.\n",
      "../aten/src/ATen/native/cuda/Indexing.cu:1088: indexSelectSmallIndex: block: [0,0,0], thread: [20,0,0] Assertion `srcIndex < srcSelectDimSize` failed.\n",
      "../aten/src/ATen/native/cuda/Indexing.cu:1088: indexSelectSmallIndex: block: [0,0,0], thread: [21,0,0] Assertion `srcIndex < srcSelectDimSize` failed.\n",
      "../aten/src/ATen/native/cuda/Indexing.cu:1088: indexSelectSmallIndex: block: [0,0,0], thread: [22,0,0] Assertion `srcIndex < srcSelectDimSize` failed.\n",
      "../aten/src/ATen/native/cuda/Indexing.cu:1088: indexSelectSmallIndex: block: [0,0,0], thread: [23,0,0] Assertion `srcIndex < srcSelectDimSize` failed.\n",
      "../aten/src/ATen/native/cuda/Indexing.cu:1088: indexSelectSmallIndex: block: [0,0,0], thread: [24,0,0] Assertion `srcIndex < srcSelectDimSize` failed.\n",
      "../aten/src/ATen/native/cuda/Indexing.cu:1088: indexSelectSmallIndex: block: [0,0,0], thread: [25,0,0] Assertion `srcIndex < srcSelectDimSize` failed.\n",
      "../aten/src/ATen/native/cuda/Indexing.cu:1088: indexSelectSmallIndex: block: [0,0,0], thread: [26,0,0] Assertion `srcIndex < srcSelectDimSize` failed.\n",
      "../aten/src/ATen/native/cuda/Indexing.cu:1088: indexSelectSmallIndex: block: [0,0,0], thread: [27,0,0] Assertion `srcIndex < srcSelectDimSize` failed.\n",
      "../aten/src/ATen/native/cuda/Indexing.cu:1088: indexSelectSmallIndex: block: [0,0,0], thread: [28,0,0] Assertion `srcIndex < srcSelectDimSize` failed.\n",
      "../aten/src/ATen/native/cuda/Indexing.cu:1088: indexSelectSmallIndex: block: [0,0,0], thread: [29,0,0] Assertion `srcIndex < srcSelectDimSize` failed.\n",
      "../aten/src/ATen/native/cuda/Indexing.cu:1088: indexSelectSmallIndex: block: [0,0,0], thread: [30,0,0] Assertion `srcIndex < srcSelectDimSize` failed.\n",
      "../aten/src/ATen/native/cuda/Indexing.cu:1088: indexSelectSmallIndex: block: [0,0,0], thread: [31,0,0] Assertion `srcIndex < srcSelectDimSize` failed.\n",
      "1.401298464324817e-45\n",
      "Traceback (most recent call last):\n",
      "  File \"incorrect_index.py\", line 14, in <module>\n",
      "    print(loss)\n",
      "  File \"/usr/local/lib/python3.8/dist-packages/torch/_tensor.py\", line 426, in __repr__\n",
      "    return torch._tensor_str._str(self, tensor_contents=tensor_contents)\n",
      "  File \"/usr/local/lib/python3.8/dist-packages/torch/_tensor_str.py\", line 637, in _str\n",
      "    return _str_intern(self, tensor_contents=tensor_contents)\n",
      "  File \"/usr/local/lib/python3.8/dist-packages/torch/_tensor_str.py\", line 568, in _str_intern\n",
      "    tensor_str = _tensor_str(self, indent)\n",
      "  File \"/usr/local/lib/python3.8/dist-packages/torch/_tensor_str.py\", line 328, in _tensor_str\n",
      "    formatter = _Formatter(get_summarized_data(self) if summarize else self)\n",
      "  File \"/usr/local/lib/python3.8/dist-packages/torch/_tensor_str.py\", line 115, in __init__\n",
      "    nonzero_finite_vals = torch.masked_select(\n",
      "RuntimeError: numel: integer multiplication overflow\n"
     ]
    }
   ]
  },
  {
   "cell_type": "markdown",
   "source": [
    "(though an experienced person might get a hint from the C++ failed assertions printed before the error)\n",
    "\n",
    "There are two ways to find the actual line that caused an exception:\n",
    "\n",
    "* First, you can just move everything to CPU. This is a valid approach, but it involves making changes to your code or input arguments and sometimes can be difficult (for example, if the error occurs after a long chain of operations).\n",
    "\n",
    "* Second, you may use the `CUDA_LAUNCH_BLOCKING` environment variable when starting your code. This will force synchronization for all GPU-related operations, making your code slower but allowing to see the exact source of the error."
   ],
   "metadata": {
    "id": "SK-kBXycW0c-"
   }
  },
  {
   "cell_type": "code",
   "source": [
    "!CUDA_LAUNCH_BLOCKING=1 python incorrect_index.py"
   ],
   "metadata": {
    "colab": {
     "base_uri": "https://localhost:8080/"
    },
    "id": "HF8lRP3_0XY0",
    "outputId": "6d419ac4-20d8-41bc-aa85-ccf52ef84e7f"
   },
   "execution_count": 36,
   "outputs": [
    {
     "output_type": "stream",
     "name": "stdout",
     "text": [
      "../aten/src/ATen/native/cuda/Indexing.cu:1088: indexSelectSmallIndex: block: [0,0,0], thread: [0,0,0] Assertion `srcIndex < srcSelectDimSize` failed.\n",
      "../aten/src/ATen/native/cuda/Indexing.cu:1088: indexSelectSmallIndex: block: [0,0,0], thread: [1,0,0] Assertion `srcIndex < srcSelectDimSize` failed.\n",
      "../aten/src/ATen/native/cuda/Indexing.cu:1088: indexSelectSmallIndex: block: [0,0,0], thread: [2,0,0] Assertion `srcIndex < srcSelectDimSize` failed.\n",
      "../aten/src/ATen/native/cuda/Indexing.cu:1088: indexSelectSmallIndex: block: [0,0,0], thread: [3,0,0] Assertion `srcIndex < srcSelectDimSize` failed.\n",
      "../aten/src/ATen/native/cuda/Indexing.cu:1088: indexSelectSmallIndex: block: [0,0,0], thread: [4,0,0] Assertion `srcIndex < srcSelectDimSize` failed.\n",
      "../aten/src/ATen/native/cuda/Indexing.cu:1088: indexSelectSmallIndex: block: [0,0,0], thread: [5,0,0] Assertion `srcIndex < srcSelectDimSize` failed.\n",
      "../aten/src/ATen/native/cuda/Indexing.cu:1088: indexSelectSmallIndex: block: [0,0,0], thread: [6,0,0] Assertion `srcIndex < srcSelectDimSize` failed.\n",
      "../aten/src/ATen/native/cuda/Indexing.cu:1088: indexSelectSmallIndex: block: [0,0,0], thread: [7,0,0] Assertion `srcIndex < srcSelectDimSize` failed.\n",
      "../aten/src/ATen/native/cuda/Indexing.cu:1088: indexSelectSmallIndex: block: [0,0,0], thread: [8,0,0] Assertion `srcIndex < srcSelectDimSize` failed.\n",
      "../aten/src/ATen/native/cuda/Indexing.cu:1088: indexSelectSmallIndex: block: [0,0,0], thread: [9,0,0] Assertion `srcIndex < srcSelectDimSize` failed.\n",
      "../aten/src/ATen/native/cuda/Indexing.cu:1088: indexSelectSmallIndex: block: [0,0,0], thread: [10,0,0] Assertion `srcIndex < srcSelectDimSize` failed.\n",
      "../aten/src/ATen/native/cuda/Indexing.cu:1088: indexSelectSmallIndex: block: [0,0,0], thread: [11,0,0] Assertion `srcIndex < srcSelectDimSize` failed.\n",
      "../aten/src/ATen/native/cuda/Indexing.cu:1088: indexSelectSmallIndex: block: [0,0,0], thread: [12,0,0] Assertion `srcIndex < srcSelectDimSize` failed.\n",
      "../aten/src/ATen/native/cuda/Indexing.cu:1088: indexSelectSmallIndex: block: [0,0,0], thread: [13,0,0] Assertion `srcIndex < srcSelectDimSize` failed.\n",
      "../aten/src/ATen/native/cuda/Indexing.cu:1088: indexSelectSmallIndex: block: [0,0,0], thread: [14,0,0] Assertion `srcIndex < srcSelectDimSize` failed.\n",
      "../aten/src/ATen/native/cuda/Indexing.cu:1088: indexSelectSmallIndex: block: [0,0,0], thread: [15,0,0] Assertion `srcIndex < srcSelectDimSize` failed.\n",
      "../aten/src/ATen/native/cuda/Indexing.cu:1088: indexSelectSmallIndex: block: [0,0,0], thread: [16,0,0] Assertion `srcIndex < srcSelectDimSize` failed.\n",
      "../aten/src/ATen/native/cuda/Indexing.cu:1088: indexSelectSmallIndex: block: [0,0,0], thread: [17,0,0] Assertion `srcIndex < srcSelectDimSize` failed.\n",
      "../aten/src/ATen/native/cuda/Indexing.cu:1088: indexSelectSmallIndex: block: [0,0,0], thread: [18,0,0] Assertion `srcIndex < srcSelectDimSize` failed.\n",
      "../aten/src/ATen/native/cuda/Indexing.cu:1088: indexSelectSmallIndex: block: [0,0,0], thread: [19,0,0] Assertion `srcIndex < srcSelectDimSize` failed.\n",
      "../aten/src/ATen/native/cuda/Indexing.cu:1088: indexSelectSmallIndex: block: [0,0,0], thread: [20,0,0] Assertion `srcIndex < srcSelectDimSize` failed.\n",
      "../aten/src/ATen/native/cuda/Indexing.cu:1088: indexSelectSmallIndex: block: [0,0,0], thread: [21,0,0] Assertion `srcIndex < srcSelectDimSize` failed.\n",
      "../aten/src/ATen/native/cuda/Indexing.cu:1088: indexSelectSmallIndex: block: [0,0,0], thread: [22,0,0] Assertion `srcIndex < srcSelectDimSize` failed.\n",
      "../aten/src/ATen/native/cuda/Indexing.cu:1088: indexSelectSmallIndex: block: [0,0,0], thread: [23,0,0] Assertion `srcIndex < srcSelectDimSize` failed.\n",
      "../aten/src/ATen/native/cuda/Indexing.cu:1088: indexSelectSmallIndex: block: [0,0,0], thread: [24,0,0] Assertion `srcIndex < srcSelectDimSize` failed.\n",
      "../aten/src/ATen/native/cuda/Indexing.cu:1088: indexSelectSmallIndex: block: [0,0,0], thread: [25,0,0] Assertion `srcIndex < srcSelectDimSize` failed.\n",
      "../aten/src/ATen/native/cuda/Indexing.cu:1088: indexSelectSmallIndex: block: [0,0,0], thread: [26,0,0] Assertion `srcIndex < srcSelectDimSize` failed.\n",
      "../aten/src/ATen/native/cuda/Indexing.cu:1088: indexSelectSmallIndex: block: [0,0,0], thread: [27,0,0] Assertion `srcIndex < srcSelectDimSize` failed.\n",
      "../aten/src/ATen/native/cuda/Indexing.cu:1088: indexSelectSmallIndex: block: [0,0,0], thread: [28,0,0] Assertion `srcIndex < srcSelectDimSize` failed.\n",
      "../aten/src/ATen/native/cuda/Indexing.cu:1088: indexSelectSmallIndex: block: [0,0,0], thread: [29,0,0] Assertion `srcIndex < srcSelectDimSize` failed.\n",
      "../aten/src/ATen/native/cuda/Indexing.cu:1088: indexSelectSmallIndex: block: [0,0,0], thread: [30,0,0] Assertion `srcIndex < srcSelectDimSize` failed.\n",
      "../aten/src/ATen/native/cuda/Indexing.cu:1088: indexSelectSmallIndex: block: [0,0,0], thread: [31,0,0] Assertion `srcIndex < srcSelectDimSize` failed.\n",
      "1.401298464324817e-45\n",
      "Traceback (most recent call last):\n",
      "  File \"incorrect_index.py\", line 14, in <module>\n",
      "    print(loss)\n",
      "  File \"/usr/local/lib/python3.8/dist-packages/torch/_tensor.py\", line 426, in __repr__\n",
      "    return torch._tensor_str._str(self, tensor_contents=tensor_contents)\n",
      "  File \"/usr/local/lib/python3.8/dist-packages/torch/_tensor_str.py\", line 637, in _str\n",
      "    return _str_intern(self, tensor_contents=tensor_contents)\n",
      "  File \"/usr/local/lib/python3.8/dist-packages/torch/_tensor_str.py\", line 568, in _str_intern\n",
      "    tensor_str = _tensor_str(self, indent)\n",
      "  File \"/usr/local/lib/python3.8/dist-packages/torch/_tensor_str.py\", line 328, in _tensor_str\n",
      "    formatter = _Formatter(get_summarized_data(self) if summarize else self)\n",
      "  File \"/usr/local/lib/python3.8/dist-packages/torch/_tensor_str.py\", line 115, in __init__\n",
      "    nonzero_finite_vals = torch.masked_select(\n",
      "RuntimeError: CUDA error: device-side assert triggered\n"
     ]
    }
   ]
  },
  {
   "cell_type": "markdown",
   "source": [
    "## Precision of floating point operations\n",
    "Let's have a look at this code snippet and its results. In essence, it computes the sixth power of a random matrix (with a fixed seed) on two different devices."
   ],
   "metadata": {
    "id": "zFDw7mEe0xe1"
   }
  },
  {
   "cell_type": "code",
   "source": [
    "torch.manual_seed(1337)\n",
    "x = torch.randn(5000, 5000)\n",
    "torch.use_deterministic_algorithms(False)\n",
    "\n",
    "\n",
    "def matrix_power(x):\n",
    "    y = x @ x @ x @ x @ x @ x\n",
    "    return (y).sum().item()\n",
    "\n",
    "\n",
    "print(matrix_power(x))\n",
    "print(matrix_power(x.cuda()))"
   ],
   "metadata": {
    "colab": {
     "base_uri": "https://localhost:8080/"
    },
    "id": "rNzil3C50_yX",
    "outputId": "3f605e50-a221-496c-ca10-60a8ef0aafd2"
   },
   "execution_count": 37,
   "outputs": [
    {
     "output_type": "stream",
     "name": "stdout",
     "text": [
      "27654770130944.0\n",
      "27654807879680.0\n"
     ]
    }
   ]
  },
  {
   "cell_type": "markdown",
   "source": [
    "(in case you are wondering, `torch.use_deterministic_algorithms(True)` won't help)\n",
    "\n",
    "If we do the same using numpy (in two ways), we also get a different result:"
   ],
   "metadata": {
    "id": "sCl7Jn5Q6gm_"
   }
  },
  {
   "cell_type": "code",
   "source": [
    "print(matrix_power(x.numpy()))\n",
    "np.linalg.matrix_power(x.numpy(), 6).sum()"
   ],
   "metadata": {
    "id": "DDNNwEX72_Bp",
    "colab": {
     "base_uri": "https://localhost:8080/"
    },
    "outputId": "a2fd7b2d-3f48-442b-b821-3175517d1f55"
   },
   "execution_count": 38,
   "outputs": [
    {
     "output_type": "stream",
     "name": "stdout",
     "text": [
      "27654791102464.0\n"
     ]
    },
    {
     "output_type": "execute_result",
     "data": {
      "text/plain": [
       "27654774000000.0"
      ]
     },
     "metadata": {},
     "execution_count": 38
    }
   ]
  },
  {
   "cell_type": "markdown",
   "source": [
    "Takeaway: numerical precision of floating point computations can vary between libraries, environments and devices, and from the user side, it is often hard to resolve this issue altogether. Usually, this happens due to a different summation order in code or due to inherent nondeterminism of hardware.\n",
    "\n",
    "However, note that the relative error is small enough, which makes such blatant discrepancies less of a problem in regular deep learning code."
   ],
   "metadata": {
    "id": "mgGAaBl16uka"
   }
  },
  {
   "cell_type": "markdown",
   "source": [
    "# Bonus (2/10 points for the first home assignment block)\n",
    "Solve exercises in the notebook from https://github.com/srush/GPU-Puzzles. You will earn the number of points corresponding to the fraction of completed exercises."
   ],
   "metadata": {
    "id": "oD3lU1o6ZeUR"
   }
  }
 ]
}
